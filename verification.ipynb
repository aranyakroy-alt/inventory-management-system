{
 "cells": [
  {
   "cell_type": "code",
   "execution_count": 2,
   "id": "4b7e110c",
   "metadata": {},
   "outputs": [
    {
     "name": "stdout",
     "output_type": "stream",
     "text": [
      "Collecting flask\n",
      "  Downloading flask-3.1.2-py3-none-any.whl.metadata (3.2 kB)\n",
      "Collecting blinker>=1.9.0 (from flask)\n",
      "  Downloading blinker-1.9.0-py3-none-any.whl.metadata (1.6 kB)\n",
      "Collecting click>=8.1.3 (from flask)\n",
      "  Downloading click-8.1.8-py3-none-any.whl.metadata (2.3 kB)\n",
      "Requirement already satisfied: importlib-metadata>=3.6.0 in /Users/apple/venv/lib/python3.9/site-packages (from flask) (7.0.1)\n",
      "Collecting itsdangerous>=2.2.0 (from flask)\n",
      "  Downloading itsdangerous-2.2.0-py3-none-any.whl.metadata (1.9 kB)\n",
      "Collecting jinja2>=3.1.2 (from flask)\n",
      "  Downloading jinja2-3.1.6-py3-none-any.whl.metadata (2.9 kB)\n",
      "Collecting markupsafe>=2.1.1 (from flask)\n",
      "  Downloading MarkupSafe-3.0.2-cp39-cp39-macosx_10_9_universal2.whl.metadata (4.0 kB)\n",
      "Collecting werkzeug>=3.1.0 (from flask)\n",
      "  Downloading werkzeug-3.1.3-py3-none-any.whl.metadata (3.7 kB)\n",
      "Requirement already satisfied: zipp>=0.5 in /Users/apple/venv/lib/python3.9/site-packages (from importlib-metadata>=3.6.0->flask) (3.17.0)\n",
      "Downloading flask-3.1.2-py3-none-any.whl (103 kB)\n",
      "\u001b[2K   \u001b[90m━━━━━━━━━━━━━━━━━━━━━━━━━━━━━━━━━━━━━━━\u001b[0m \u001b[32m103.3/103.3 kB\u001b[0m \u001b[31m978.9 kB/s\u001b[0m eta \u001b[36m0:00:00\u001b[0m0:01\u001b[0m:00:01\u001b[0m\n",
      "\u001b[?25hDownloading blinker-1.9.0-py3-none-any.whl (8.5 kB)\n",
      "Downloading click-8.1.8-py3-none-any.whl (98 kB)\n",
      "\u001b[2K   \u001b[90m━━━━━━━━━━━━━━━━━━━━━━━━━━━━━━━━━━━━━━━━\u001b[0m \u001b[32m98.2/98.2 kB\u001b[0m \u001b[31m2.3 MB/s\u001b[0m eta \u001b[36m0:00:00\u001b[0ma \u001b[36m0:00:01\u001b[0m\n",
      "\u001b[?25hDownloading itsdangerous-2.2.0-py3-none-any.whl (16 kB)\n",
      "Downloading jinja2-3.1.6-py3-none-any.whl (134 kB)\n",
      "\u001b[2K   \u001b[90m━━━━━━━━━━━━━━━━━━━━━━━━━━━━━━━━━━━━━━━━\u001b[0m \u001b[32m134.9/134.9 kB\u001b[0m \u001b[31m1.4 MB/s\u001b[0m eta \u001b[36m0:00:00\u001b[0m00:01\u001b[0m0:01\u001b[0m\n",
      "\u001b[?25hDownloading MarkupSafe-3.0.2-cp39-cp39-macosx_10_9_universal2.whl (14 kB)\n",
      "Downloading werkzeug-3.1.3-py3-none-any.whl (224 kB)\n",
      "\u001b[2K   \u001b[90m━━━━━━━━━━━━━━━━━━━━━━━━━━━━━━━━━━━━━━━━\u001b[0m \u001b[32m224.5/224.5 kB\u001b[0m \u001b[31m1.8 MB/s\u001b[0m eta \u001b[36m0:00:00\u001b[0m \u001b[36m0:00:01\u001b[0m\n",
      "\u001b[?25hInstalling collected packages: markupsafe, itsdangerous, click, blinker, werkzeug, jinja2, flask\n",
      "Successfully installed blinker-1.9.0 click-8.1.8 flask-3.1.2 itsdangerous-2.2.0 jinja2-3.1.6 markupsafe-3.0.2 werkzeug-3.1.3\n"
     ]
    }
   ],
   "source": [
    "!pip install flask"
   ]
  },
  {
   "cell_type": "code",
   "execution_count": 4,
   "id": "abc8987d",
   "metadata": {},
   "outputs": [
    {
     "name": "stdout",
     "output_type": "stream",
     "text": [
      "Collecting flask_sqlalchemy\n",
      "  Using cached flask_sqlalchemy-3.1.1-py3-none-any.whl.metadata (3.4 kB)\n",
      "Requirement already satisfied: flask>=2.2.5 in /Users/apple/venv/lib/python3.9/site-packages (from flask_sqlalchemy) (3.1.2)\n",
      "Collecting sqlalchemy>=2.0.16 (from flask_sqlalchemy)\n",
      "  Downloading sqlalchemy-2.0.43-cp39-cp39-macosx_10_9_x86_64.whl.metadata (9.6 kB)\n",
      "Requirement already satisfied: blinker>=1.9.0 in /Users/apple/venv/lib/python3.9/site-packages (from flask>=2.2.5->flask_sqlalchemy) (1.9.0)\n",
      "Requirement already satisfied: click>=8.1.3 in /Users/apple/venv/lib/python3.9/site-packages (from flask>=2.2.5->flask_sqlalchemy) (8.1.8)\n",
      "Requirement already satisfied: importlib-metadata>=3.6.0 in /Users/apple/venv/lib/python3.9/site-packages (from flask>=2.2.5->flask_sqlalchemy) (7.0.1)\n",
      "Requirement already satisfied: itsdangerous>=2.2.0 in /Users/apple/venv/lib/python3.9/site-packages (from flask>=2.2.5->flask_sqlalchemy) (2.2.0)\n",
      "Requirement already satisfied: jinja2>=3.1.2 in /Users/apple/venv/lib/python3.9/site-packages (from flask>=2.2.5->flask_sqlalchemy) (3.1.6)\n",
      "Requirement already satisfied: markupsafe>=2.1.1 in /Users/apple/venv/lib/python3.9/site-packages (from flask>=2.2.5->flask_sqlalchemy) (3.0.2)\n",
      "Requirement already satisfied: werkzeug>=3.1.0 in /Users/apple/venv/lib/python3.9/site-packages (from flask>=2.2.5->flask_sqlalchemy) (3.1.3)\n",
      "Collecting greenlet>=1 (from sqlalchemy>=2.0.16->flask_sqlalchemy)\n",
      "  Downloading greenlet-3.2.4.tar.gz (188 kB)\n",
      "\u001b[2K     \u001b[90m━━━━━━━━━━━━━━━━━━━━━━━━━━━━━━━━━━━━━━━\u001b[0m \u001b[32m188.3/188.3 kB\u001b[0m \u001b[31m1.2 MB/s\u001b[0m eta \u001b[36m0:00:00\u001b[0ma \u001b[36m0:00:01\u001b[0m\n",
      "\u001b[?25h  Installing build dependencies ... \u001b[?25ldone\n",
      "\u001b[?25h  Getting requirements to build wheel ... \u001b[?25ldone\n",
      "\u001b[?25h  Preparing metadata (pyproject.toml) ... \u001b[?25ldone\n",
      "\u001b[?25hRequirement already satisfied: typing-extensions>=4.6.0 in /Users/apple/venv/lib/python3.9/site-packages (from sqlalchemy>=2.0.16->flask_sqlalchemy) (4.11.0)\n",
      "Requirement already satisfied: zipp>=0.5 in /Users/apple/venv/lib/python3.9/site-packages (from importlib-metadata>=3.6.0->flask>=2.2.5->flask_sqlalchemy) (3.17.0)\n",
      "Using cached flask_sqlalchemy-3.1.1-py3-none-any.whl (25 kB)\n",
      "Downloading sqlalchemy-2.0.43-cp39-cp39-macosx_10_9_x86_64.whl (2.1 MB)\n",
      "\u001b[2K   \u001b[90m━━━━━━━━━━━━━━━━━━━━━━━━━━━━━━━━━━━━━━━━\u001b[0m \u001b[32m2.1/2.1 MB\u001b[0m \u001b[31m1.1 MB/s\u001b[0m eta \u001b[36m0:00:00\u001b[0m00:01\u001b[0m00:01\u001b[0m\n",
      "\u001b[?25hBuilding wheels for collected packages: greenlet\n",
      "  Building wheel for greenlet (pyproject.toml) ... \u001b[?25ldone\n",
      "\u001b[?25h  Created wheel for greenlet: filename=greenlet-3.2.4-cp39-cp39-macosx_10_9_x86_64.whl size=222076 sha256=108a41ce35c5ad327632d17f567663af7a0f55db56c6d7670d0f18d1785908bb\n",
      "  Stored in directory: /Users/apple/Library/Caches/pip/wheels/d0/f5/76/bc896027e5247782aeacef6811925e2779d28cf3d6107f2a94\n",
      "Successfully built greenlet\n",
      "Installing collected packages: greenlet, sqlalchemy, flask_sqlalchemy\n",
      "Successfully installed flask_sqlalchemy-3.1.1 greenlet-3.2.4 sqlalchemy-2.0.43\n"
     ]
    }
   ],
   "source": [
    "!pip install flask_sqlalchemy"
   ]
  },
  {
   "cell_type": "code",
   "execution_count": 6,
   "id": "c6c1bc0c",
   "metadata": {},
   "outputs": [
    {
     "name": "stdout",
     "output_type": "stream",
     "text": [
      "Collecting reportlab\n",
      "  Using cached reportlab-4.4.3-py3-none-any.whl.metadata (1.7 kB)\n",
      "Collecting pillow>=9.0.0 (from reportlab)\n",
      "  Downloading pillow-11.3.0-cp39-cp39-macosx_10_10_x86_64.whl.metadata (9.0 kB)\n",
      "Collecting charset-normalizer (from reportlab)\n",
      "  Downloading charset_normalizer-3.4.3-cp39-cp39-macosx_10_9_universal2.whl.metadata (36 kB)\n",
      "Using cached reportlab-4.4.3-py3-none-any.whl (2.0 MB)\n",
      "Downloading pillow-11.3.0-cp39-cp39-macosx_10_10_x86_64.whl (5.3 MB)\n",
      "\u001b[2K   \u001b[90m━━━━━━━━━━━━━━━━━━━━━━━━━━━━━━━━━━━━━━━━\u001b[0m \u001b[32m5.3/5.3 MB\u001b[0m \u001b[31m1.1 MB/s\u001b[0m eta \u001b[36m0:00:00\u001b[0m00:01\u001b[0m00:01\u001b[0m\n",
      "\u001b[?25hDownloading charset_normalizer-3.4.3-cp39-cp39-macosx_10_9_universal2.whl (207 kB)\n",
      "\u001b[2K   \u001b[90m━━━━━━━━━━━━━━━━━━━━━━━━━━━━━━━━━━━━━━━\u001b[0m \u001b[32m207.5/207.5 kB\u001b[0m \u001b[31m802.1 kB/s\u001b[0m eta \u001b[36m0:00:00\u001b[0ma \u001b[36m0:00:01\u001b[0m\n",
      "\u001b[?25hInstalling collected packages: pillow, charset-normalizer, reportlab\n",
      "Successfully installed charset-normalizer-3.4.3 pillow-11.3.0 reportlab-4.4.3\n"
     ]
    }
   ],
   "source": [
    "!pip install reportlab"
   ]
  },
  {
   "cell_type": "code",
   "execution_count": 7,
   "id": "89d92ce7",
   "metadata": {},
   "outputs": [
    {
     "name": "stdout",
     "output_type": "stream",
     "text": [
      "Products: 6\n",
      "Suppliers: 3\n",
      "Transactions: 17\n",
      "Reorder Points: 4\n"
     ]
    }
   ],
   "source": [
    "# Run this in Python console to verify models\n",
    "from app import app, db, Product, Supplier, StockTransaction, ReorderPoint\n",
    "\n",
    "with app.app_context():\n",
    "    print(f\"Products: {Product.query.count()}\")\n",
    "    print(f\"Suppliers: {Supplier.query.count()}\")\n",
    "    print(f\"Transactions: {StockTransaction.query.count()}\")\n",
    "    print(f\"Reorder Points: {ReorderPoint.query.count()}\")"
   ]
  }
 ],
 "metadata": {
  "kernelspec": {
   "display_name": "Python 3",
   "language": "python",
   "name": "python3"
  },
  "language_info": {
   "codemirror_mode": {
    "name": "ipython",
    "version": 3
   },
   "file_extension": ".py",
   "mimetype": "text/x-python",
   "name": "python",
   "nbconvert_exporter": "python",
   "pygments_lexer": "ipython3",
   "version": "3.9.19"
  }
 },
 "nbformat": 4,
 "nbformat_minor": 5
}
